{
 "cells": [
  {
   "cell_type": "code",
   "execution_count": 424,
   "metadata": {
    "id": "PGNP9R9S9ApK"
   },
   "outputs": [],
   "source": [
    "import tensorflow as tf\n",
    "from tensorflow import keras\n",
    "\n",
    "import numpy as np"
   ]
  },
  {
   "cell_type": "code",
   "execution_count": 425,
   "metadata": {
    "id": "93pnEOlX9EBh"
   },
   "outputs": [],
   "source": [
    "import pandas as pd"
   ]
  },
  {
   "cell_type": "code",
   "execution_count": 426,
   "metadata": {
    "colab": {
     "base_uri": "https://localhost:8080/",
     "height": 852
    },
    "id": "AWaOdyLR9Hbi",
    "outputId": "cc33a1a8-ae46-4f91-86fc-2f945f78aceb"
   },
   "outputs": [
    {
     "data": {
      "text/html": [
       "<div>\n",
       "<style scoped>\n",
       "    .dataframe tbody tr th:only-of-type {\n",
       "        vertical-align: middle;\n",
       "    }\n",
       "\n",
       "    .dataframe tbody tr th {\n",
       "        vertical-align: top;\n",
       "    }\n",
       "\n",
       "    .dataframe thead th {\n",
       "        text-align: right;\n",
       "    }\n",
       "</style>\n",
       "<table border=\"1\" class=\"dataframe\">\n",
       "  <thead>\n",
       "    <tr style=\"text-align: right;\">\n",
       "      <th></th>\n",
       "      <th>Unnamed: 0</th>\n",
       "      <th>cycle</th>\n",
       "      <th>ambient_temperature</th>\n",
       "      <th>datetime</th>\n",
       "      <th>capacity</th>\n",
       "      <th>voltage_measured</th>\n",
       "      <th>current_measured</th>\n",
       "      <th>temperature_measured</th>\n",
       "      <th>current_load</th>\n",
       "      <th>voltage_load</th>\n",
       "      <th>time</th>\n",
       "    </tr>\n",
       "  </thead>\n",
       "  <tbody>\n",
       "    <tr>\n",
       "      <th>0</th>\n",
       "      <td>0</td>\n",
       "      <td>1</td>\n",
       "      <td>24</td>\n",
       "      <td>2008-04-02 15:25:41</td>\n",
       "      <td>1.856487</td>\n",
       "      <td>4.191492</td>\n",
       "      <td>-0.004902</td>\n",
       "      <td>24.330034</td>\n",
       "      <td>-0.0006</td>\n",
       "      <td>0.000</td>\n",
       "      <td>0.000</td>\n",
       "    </tr>\n",
       "    <tr>\n",
       "      <th>1</th>\n",
       "      <td>1</td>\n",
       "      <td>1</td>\n",
       "      <td>24</td>\n",
       "      <td>2008-04-02 15:25:41</td>\n",
       "      <td>1.856487</td>\n",
       "      <td>4.190749</td>\n",
       "      <td>-0.001478</td>\n",
       "      <td>24.325993</td>\n",
       "      <td>-0.0006</td>\n",
       "      <td>4.206</td>\n",
       "      <td>16.781</td>\n",
       "    </tr>\n",
       "    <tr>\n",
       "      <th>2</th>\n",
       "      <td>2</td>\n",
       "      <td>1</td>\n",
       "      <td>24</td>\n",
       "      <td>2008-04-02 15:25:41</td>\n",
       "      <td>1.856487</td>\n",
       "      <td>3.974871</td>\n",
       "      <td>-2.012528</td>\n",
       "      <td>24.389085</td>\n",
       "      <td>-1.9982</td>\n",
       "      <td>3.062</td>\n",
       "      <td>35.703</td>\n",
       "    </tr>\n",
       "    <tr>\n",
       "      <th>3</th>\n",
       "      <td>3</td>\n",
       "      <td>1</td>\n",
       "      <td>24</td>\n",
       "      <td>2008-04-02 15:25:41</td>\n",
       "      <td>1.856487</td>\n",
       "      <td>3.951717</td>\n",
       "      <td>-2.013979</td>\n",
       "      <td>24.544752</td>\n",
       "      <td>-1.9982</td>\n",
       "      <td>3.030</td>\n",
       "      <td>53.781</td>\n",
       "    </tr>\n",
       "    <tr>\n",
       "      <th>4</th>\n",
       "      <td>4</td>\n",
       "      <td>1</td>\n",
       "      <td>24</td>\n",
       "      <td>2008-04-02 15:25:41</td>\n",
       "      <td>1.856487</td>\n",
       "      <td>3.934352</td>\n",
       "      <td>-2.011144</td>\n",
       "      <td>24.731385</td>\n",
       "      <td>-1.9982</td>\n",
       "      <td>3.011</td>\n",
       "      <td>71.922</td>\n",
       "    </tr>\n",
       "    <tr>\n",
       "      <th>...</th>\n",
       "      <td>...</td>\n",
       "      <td>...</td>\n",
       "      <td>...</td>\n",
       "      <td>...</td>\n",
       "      <td>...</td>\n",
       "      <td>...</td>\n",
       "      <td>...</td>\n",
       "      <td>...</td>\n",
       "      <td>...</td>\n",
       "      <td>...</td>\n",
       "      <td>...</td>\n",
       "    </tr>\n",
       "    <tr>\n",
       "      <th>50280</th>\n",
       "      <td>50280</td>\n",
       "      <td>168</td>\n",
       "      <td>24</td>\n",
       "      <td>2008-05-27 20:45:42</td>\n",
       "      <td>1.325079</td>\n",
       "      <td>3.579262</td>\n",
       "      <td>-0.001569</td>\n",
       "      <td>34.864823</td>\n",
       "      <td>0.0006</td>\n",
       "      <td>0.000</td>\n",
       "      <td>2781.312</td>\n",
       "    </tr>\n",
       "    <tr>\n",
       "      <th>50281</th>\n",
       "      <td>50281</td>\n",
       "      <td>168</td>\n",
       "      <td>24</td>\n",
       "      <td>2008-05-27 20:45:42</td>\n",
       "      <td>1.325079</td>\n",
       "      <td>3.581964</td>\n",
       "      <td>-0.003067</td>\n",
       "      <td>34.814770</td>\n",
       "      <td>0.0006</td>\n",
       "      <td>0.000</td>\n",
       "      <td>2791.062</td>\n",
       "    </tr>\n",
       "    <tr>\n",
       "      <th>50282</th>\n",
       "      <td>50282</td>\n",
       "      <td>168</td>\n",
       "      <td>24</td>\n",
       "      <td>2008-05-27 20:45:42</td>\n",
       "      <td>1.325079</td>\n",
       "      <td>3.584484</td>\n",
       "      <td>-0.003079</td>\n",
       "      <td>34.676258</td>\n",
       "      <td>0.0006</td>\n",
       "      <td>0.000</td>\n",
       "      <td>2800.828</td>\n",
       "    </tr>\n",
       "    <tr>\n",
       "      <th>50283</th>\n",
       "      <td>50283</td>\n",
       "      <td>168</td>\n",
       "      <td>24</td>\n",
       "      <td>2008-05-27 20:45:42</td>\n",
       "      <td>1.325079</td>\n",
       "      <td>3.587336</td>\n",
       "      <td>0.001219</td>\n",
       "      <td>34.565580</td>\n",
       "      <td>0.0006</td>\n",
       "      <td>0.000</td>\n",
       "      <td>2810.640</td>\n",
       "    </tr>\n",
       "    <tr>\n",
       "      <th>50284</th>\n",
       "      <td>50284</td>\n",
       "      <td>168</td>\n",
       "      <td>24</td>\n",
       "      <td>2008-05-27 20:45:42</td>\n",
       "      <td>1.325079</td>\n",
       "      <td>3.589937</td>\n",
       "      <td>-0.000583</td>\n",
       "      <td>34.405920</td>\n",
       "      <td>0.0006</td>\n",
       "      <td>0.000</td>\n",
       "      <td>2820.390</td>\n",
       "    </tr>\n",
       "  </tbody>\n",
       "</table>\n",
       "<p>50285 rows × 11 columns</p>\n",
       "</div>"
      ],
      "text/plain": [
       "       Unnamed: 0  cycle  ambient_temperature             datetime  capacity  \\\n",
       "0               0      1                   24  2008-04-02 15:25:41  1.856487   \n",
       "1               1      1                   24  2008-04-02 15:25:41  1.856487   \n",
       "2               2      1                   24  2008-04-02 15:25:41  1.856487   \n",
       "3               3      1                   24  2008-04-02 15:25:41  1.856487   \n",
       "4               4      1                   24  2008-04-02 15:25:41  1.856487   \n",
       "...           ...    ...                  ...                  ...       ...   \n",
       "50280       50280    168                   24  2008-05-27 20:45:42  1.325079   \n",
       "50281       50281    168                   24  2008-05-27 20:45:42  1.325079   \n",
       "50282       50282    168                   24  2008-05-27 20:45:42  1.325079   \n",
       "50283       50283    168                   24  2008-05-27 20:45:42  1.325079   \n",
       "50284       50284    168                   24  2008-05-27 20:45:42  1.325079   \n",
       "\n",
       "       voltage_measured  current_measured  temperature_measured  current_load  \\\n",
       "0              4.191492         -0.004902             24.330034       -0.0006   \n",
       "1              4.190749         -0.001478             24.325993       -0.0006   \n",
       "2              3.974871         -2.012528             24.389085       -1.9982   \n",
       "3              3.951717         -2.013979             24.544752       -1.9982   \n",
       "4              3.934352         -2.011144             24.731385       -1.9982   \n",
       "...                 ...               ...                   ...           ...   \n",
       "50280          3.579262         -0.001569             34.864823        0.0006   \n",
       "50281          3.581964         -0.003067             34.814770        0.0006   \n",
       "50282          3.584484         -0.003079             34.676258        0.0006   \n",
       "50283          3.587336          0.001219             34.565580        0.0006   \n",
       "50284          3.589937         -0.000583             34.405920        0.0006   \n",
       "\n",
       "       voltage_load      time  \n",
       "0             0.000     0.000  \n",
       "1             4.206    16.781  \n",
       "2             3.062    35.703  \n",
       "3             3.030    53.781  \n",
       "4             3.011    71.922  \n",
       "...             ...       ...  \n",
       "50280         0.000  2781.312  \n",
       "50281         0.000  2791.062  \n",
       "50282         0.000  2800.828  \n",
       "50283         0.000  2810.640  \n",
       "50284         0.000  2820.390  \n",
       "\n",
       "[50285 rows x 11 columns]"
      ]
     },
     "execution_count": 426,
     "metadata": {},
     "output_type": "execute_result"
    }
   ],
   "source": [
    "data=pd.read_csv(\"B0007.csv\")\n",
    "data"
   ]
  },
  {
   "cell_type": "code",
   "execution_count": 427,
   "metadata": {},
   "outputs": [
    {
     "data": {
      "image/png": "[encoded data removed]",
      "text/plain": [
       "<Figure size 640x480 with 1 Axes>"
      ]
     },
     "metadata": {},
     "output_type": "display_data"
    }
   ],
   "source": [
    "import matplotlib.pyplot as plt\n",
    "plt.plot(range(len(data[\"capacity\"])),data[\"capacity\"])\n",
    "plt.show()"
   ]
  },
  {
   "cell_type": "code",
   "execution_count": 428,
   "metadata": {
    "colab": {
     "base_uri": "https://localhost:8080/",
     "height": 424
    },
    "id": "ompghabq9HMB",
    "outputId": "75c2ca25-c4dd-4af0-be21-ebb3b18fff2e"
   },
   "outputs": [
    {
     "data": {
      "text/html": [
       "<div>\n",
       "<style scoped>\n",
       "    .dataframe tbody tr th:only-of-type {\n",
       "        vertical-align: middle;\n",
       "    }\n",
       "\n",
       "    .dataframe tbody tr th {\n",
       "        vertical-align: top;\n",
       "    }\n",
       "\n",
       "    .dataframe thead th {\n",
       "        text-align: right;\n",
       "    }\n",
       "</style>\n",
       "<table border=\"1\" class=\"dataframe\">\n",
       "  <thead>\n",
       "    <tr style=\"text-align: right;\">\n",
       "      <th></th>\n",
       "      <th>capacity</th>\n",
       "    </tr>\n",
       "  </thead>\n",
       "  <tbody>\n",
       "    <tr>\n",
       "      <th>0</th>\n",
       "      <td>1.856487</td>\n",
       "    </tr>\n",
       "    <tr>\n",
       "      <th>1</th>\n",
       "      <td>1.856487</td>\n",
       "    </tr>\n",
       "    <tr>\n",
       "      <th>2</th>\n",
       "      <td>1.856487</td>\n",
       "    </tr>\n",
       "    <tr>\n",
       "      <th>3</th>\n",
       "      <td>1.856487</td>\n",
       "    </tr>\n",
       "    <tr>\n",
       "      <th>4</th>\n",
       "      <td>1.856487</td>\n",
       "    </tr>\n",
       "    <tr>\n",
       "      <th>...</th>\n",
       "      <td>...</td>\n",
       "    </tr>\n",
       "    <tr>\n",
       "      <th>50280</th>\n",
       "      <td>1.325079</td>\n",
       "    </tr>\n",
       "    <tr>\n",
       "      <th>50281</th>\n",
       "      <td>1.325079</td>\n",
       "    </tr>\n",
       "    <tr>\n",
       "      <th>50282</th>\n",
       "      <td>1.325079</td>\n",
       "    </tr>\n",
       "    <tr>\n",
       "      <th>50283</th>\n",
       "      <td>1.325079</td>\n",
       "    </tr>\n",
       "    <tr>\n",
       "      <th>50284</th>\n",
       "      <td>1.325079</td>\n",
       "    </tr>\n",
       "  </tbody>\n",
       "</table>\n",
       "<p>50285 rows × 1 columns</p>\n",
       "</div>"
      ],
      "text/plain": [
       "       capacity\n",
       "0      1.856487\n",
       "1      1.856487\n",
       "2      1.856487\n",
       "3      1.856487\n",
       "4      1.856487\n",
       "...         ...\n",
       "50280  1.325079\n",
       "50281  1.325079\n",
       "50282  1.325079\n",
       "50283  1.325079\n",
       "50284  1.325079\n",
       "\n",
       "[50285 rows x 1 columns]"
      ]
     },
     "execution_count": 428,
     "metadata": {},
     "output_type": "execute_result"
    }
   ],
   "source": [
    "capacity=data[[\"capacity\"]]\n",
    "capacity=capacity.set_index(pd.Index(range(len(capacity))))\n",
    "capacity"
   ]
  },
  {
   "cell_type": "code",
   "execution_count": 429,
   "metadata": {
    "id": "6_g6MRNA9dhT"
   },
   "outputs": [],
   "source": [
    "soh=[]\n",
    "for i in range(len(capacity)):\n",
    "  soh.append(capacity.loc[i].at[\"capacity\"]/capacity.loc[0].at[\"capacity\"])"
   ]
  },
  {
   "cell_type": "code",
   "execution_count": 430,
   "metadata": {
    "colab": {
     "base_uri": "https://localhost:8080/",
     "height": 265
    },
    "id": "n6SiftOG9da6",
    "outputId": "dea8fdf2-7354-4c6f-f378-76e61383115d"
   },
   "outputs": [
    {
     "data": {
      "image/png": "[encoded data removed]",
      "text/plain": [
       "<Figure size 640x480 with 1 Axes>"
      ]
     },
     "metadata": {},
     "output_type": "display_data"
    }
   ],
   "source": [
    "plt.plot(range(len(soh)),soh)\n",
    "plt.show()"
   ]
  },
  {
   "cell_type": "code",
   "execution_count": 431,
   "metadata": {
    "id": "WRBvPXg19_cF"
   },
   "outputs": [],
   "source": [
    "capacity=np.asarray(capacity)"
   ]
  },
  {
   "cell_type": "code",
   "execution_count": 432,
   "metadata": {
    "colab": {
     "base_uri": "https://localhost:8080/"
    },
    "id": "Z0pj0c2r-D4n",
    "outputId": "e2e35af3-cf21-48d5-89f5-24826a6fb596"
   },
   "outputs": [
    {
     "data": {
      "text/plain": [
       "numpy.ndarray"
      ]
     },
     "execution_count": 432,
     "metadata": {},
     "output_type": "execute_result"
    }
   ],
   "source": [
    "type(capacity)"
   ]
  },
  {
   "cell_type": "code",
   "execution_count": 433,
   "metadata": {},
   "outputs": [],
   "source": [
    "from sklearn.preprocessing import MinMaxScaler"
   ]
  },
  {
   "cell_type": "code",
   "execution_count": 932,
   "metadata": {},
   "outputs": [],
   "source": [
    "# PREDICTING SOH"
   ]
  },
  {
   "cell_type": "code",
   "execution_count": 933,
   "metadata": {
    "id": "Cznc33Md9z3V"
   },
   "outputs": [],
   "source": [
    "timestep = 50\n",
    "\n",
    "X= []\n",
    "Y=[]\n",
    "\n",
    "cap=capacity\n",
    "\n",
    "for i in range(len(capacity)- (timestep)):\n",
    "    X.append(capacity[i:i+timestep])\n",
    "    Y.append(soh[i+timestep])\n",
    "\n",
    "\n",
    "X=np.asanyarray(X)\n",
    "Y=np.asanyarray(Y)\n",
    "\n",
    "\n",
    "k = 100\n",
    "Xtrain = X[:k,:,:]  \n",
    "Ytrain = Y[:k]  "
   ]
  },
  {
   "cell_type": "code",
   "execution_count": 934,
   "metadata": {},
   "outputs": [],
   "source": [
    "from keras.models import Sequential"
   ]
  },
  {
   "cell_type": "code",
   "execution_count": 935,
   "metadata": {},
   "outputs": [],
   "source": [
    "from keras.layers import Dense, LSTM, Flatten"
   ]
  },
  {
   "cell_type": "code",
   "execution_count": 936,
   "metadata": {},
   "outputs": [],
   "source": [
    "from sklearn.metrics import mean_squared_error,confusion_matrix, accuracy_score, mean_absolute_error,r2_score\n",
    "from tensorflow.keras.layers import Dropout"
   ]
  },
  {
   "cell_type": "code",
   "execution_count": 937,
   "metadata": {},
   "outputs": [],
   "source": [
    "model = Sequential()\n",
    "model.add(LSTM(units=32, return_sequences=True, input_shape=(50,1)))\n",
    "model.add(Dropout(0.2))\n",
    "model.add(LSTM(units=32))\n",
    "model.add(Dropout(0.3))\n",
    "model.add(Dense(64,activation='linear'))\n",
    "model.add(Dense(32,activation='linear'))\n",
    "model.add(Dense(8,activation='linear'))\n",
    "model.add(Dense(1))\n",
    "model.compile(loss=tf.keras.losses.Huber(), optimizer='adam')"
   ]
  },
  {
   "cell_type": "code",
   "execution_count": 938,
   "metadata": {},
   "outputs": [
    {
     "name": "stdout",
     "output_type": "stream",
     "text": [
      "Epoch 1/10\n",
      "4/4 [==============================] - 3s 21ms/step - loss: 0.3342\n",
      "Epoch 2/10\n",
      "4/4 [==============================] - 0s 20ms/step - loss: 0.0358\n",
      "Epoch 3/10\n",
      "4/4 [==============================] - 0s 20ms/step - loss: 0.0604\n",
      "Epoch 4/10\n",
      "4/4 [==============================] - 0s 20ms/step - loss: 0.0181\n",
      "Epoch 5/10\n",
      "4/4 [==============================] - 0s 21ms/step - loss: 0.0281\n",
      "Epoch 6/10\n",
      "4/4 [==============================] - 0s 20ms/step - loss: 0.0214\n",
      "Epoch 7/10\n",
      "4/4 [==============================] - 0s 20ms/step - loss: 0.0107\n",
      "Epoch 8/10\n",
      "4/4 [==============================] - 0s 20ms/step - loss: 0.0157\n",
      "Epoch 9/10\n",
      "4/4 [==============================] - 0s 20ms/step - loss: 0.0086\n",
      "Epoch 10/10\n",
      "4/4 [==============================] - 0s 20ms/step - loss: 0.0079\n"
     ]
    },
    {
     "data": {
      "text/plain": [
       "<keras.callbacks.History at 0x1d1e23ba530>"
      ]
     },
     "execution_count": 938,
     "metadata": {},
     "output_type": "execute_result"
    }
   ],
   "source": [
    "model.fit(Xtrain, Ytrain, epochs=10,batch_size=32)"
   ]
  },
  {
   "cell_type": "code",
   "execution_count": 939,
   "metadata": {
    "id": "9Upz_yjr-q3Q"
   },
   "outputs": [],
   "source": [
    "Xtest = X[k:,:,:]  \n",
    "Ytest= Y[k:]  "
   ]
  },
  {
   "cell_type": "code",
   "execution_count": 940,
   "metadata": {
    "id": "YQS_fo2c_Wp7"
   },
   "outputs": [],
   "source": [
    "from sklearn.preprocessing import MinMaxScaler\n",
    "from sklearn.metrics import mean_squared_error,confusion_matrix, accuracy_score, mean_absolute_error,r2_score"
   ]
  },
  {
   "cell_type": "code",
   "execution_count": 941,
   "metadata": {
    "colab": {
     "base_uri": "https://localhost:8080/"
    },
    "id": "5z4yx_kF-9Bm",
    "outputId": "5730feff-ee18-4c85-b026-35f1901b31b5"
   },
   "outputs": [
    {
     "name": "stdout",
     "output_type": "stream",
     "text": [
      "1567/1567 [==============================] - 12s 7ms/step\n"
     ]
    },
    {
     "data": {
      "text/plain": [
       "0.00196519945011095"
      ]
     },
     "execution_count": 941,
     "metadata": {},
     "output_type": "execute_result"
    }
   ],
   "source": [
    "preds = model.predict(Xtest)\n",
    "\n",
    "\n",
    "\n",
    "Ytest=np.asanyarray(Ytest)  \n",
    "Ytest=Ytest.reshape(-1,1) \n",
    "\n",
    "\n",
    "\n",
    "Ytrain=np.asanyarray(Ytrain)  \n",
    "Ytrain=Ytrain.reshape(-1,1) \n",
    "\n",
    "\n",
    "mean_squared_error(Ytest,preds)"
   ]
  },
  {
   "cell_type": "code",
   "execution_count": 942,
   "metadata": {},
   "outputs": [],
   "source": [
    "from math import sqrt"
   ]
  },
  {
   "cell_type": "code",
   "execution_count": 943,
   "metadata": {},
   "outputs": [
    {
     "data": {
      "text/plain": [
       "0.04433057015323568"
      ]
     },
     "execution_count": 943,
     "metadata": {},
     "output_type": "execute_result"
    }
   ],
   "source": [
    "sqrt(mean_squared_error(Ytest, preds))"
   ]
  },
  {
   "cell_type": "code",
   "execution_count": 944,
   "metadata": {},
   "outputs": [
    {
     "data": {
      "text/plain": [
       "0.039678726911635584"
      ]
     },
     "execution_count": 944,
     "metadata": {},
     "output_type": "execute_result"
    }
   ],
   "source": [
    "mean_absolute_error(Ytest,preds)"
   ]
  },
  {
   "cell_type": "code",
   "execution_count": 945,
   "metadata": {},
   "outputs": [
    {
     "data": {
      "text/plain": [
       "0.7953605719355126"
      ]
     },
     "execution_count": 945,
     "metadata": {},
     "output_type": "execute_result"
    }
   ],
   "source": [
    "r2_score(Ytest,preds)"
   ]
  },
  {
   "cell_type": "code",
   "execution_count": 946,
   "metadata": {
    "colab": {
     "base_uri": "https://localhost:8080/",
     "height": 282
    },
    "id": "V4Zq6b2F_vJd",
    "outputId": "ca407e7e-0499-46e5-d2b6-4a3cb380a94e"
   },
   "outputs": [
    {
     "data": {
      "text/plain": [
       "[<matplotlib.lines.Line2D at 0x1d1e8884160>]"
      ]
     },
     "execution_count": 946,
     "metadata": {},
     "output_type": "execute_result"
    },
    {
     "data": {
      "image/png": "[encoded data removed]",
      "text/plain": [
       "<Figure size 640x480 with 1 Axes>"
      ]
     },
     "metadata": {},
     "output_type": "display_data"
    }
   ],
   "source": [
    "plt.plot(range(len(preds)),preds)\n",
    "plt.plot(range(len(Ytest)),Ytest)"
   ]
  },
  {
   "cell_type": "code",
   "execution_count": 947,
   "metadata": {
    "colab": {
     "base_uri": "https://localhost:8080/"
    },
    "id": "qVBAZPnoACQV",
    "outputId": "84ee5bc3-ea29-40e0-d453-2714f7d8e843"
   },
   "outputs": [
    {
     "name": "stdout",
     "output_type": "stream",
     "text": [
      "1570/1570 [==============================] - 12s 8ms/step\n"
     ]
    }
   ],
   "source": [
    "preds = model.predict(X)"
   ]
  },
  {
   "cell_type": "code",
   "execution_count": 948,
   "metadata": {},
   "outputs": [
    {
     "data": {
      "text/plain": [
       "array([[0.9355227],\n",
       "       [0.9355227],\n",
       "       [0.9355227],\n",
       "       ...,\n",
       "       [0.7771859],\n",
       "       [0.7771859],\n",
       "       [0.7771859]], dtype=float32)"
      ]
     },
     "execution_count": 948,
     "metadata": {},
     "output_type": "execute_result"
    }
   ],
   "source": [
    "preds"
   ]
  },
  {
   "cell_type": "code",
   "execution_count": 949,
   "metadata": {
    "colab": {
     "base_uri": "https://localhost:8080/",
     "height": 282
    },
    "id": "FdkTwLPXBMaQ",
    "outputId": "7bab6f4e-4627-4b38-f095-1e4c21a426eb"
   },
   "outputs": [
    {
     "data": {
      "text/plain": [
       "[<matplotlib.lines.Line2D at 0x1d1e88eb6a0>]"
      ]
     },
     "execution_count": 949,
     "metadata": {},
     "output_type": "execute_result"
    },
    {
     "data": {
      "image/png": "[encoded data removed]",
      "text/plain": [
       "<Figure size 640x480 with 1 Axes>"
      ]
     },
     "metadata": {},
     "output_type": "display_data"
    }
   ],
   "source": [
    "plt.plot(range(len(preds)),preds)\n",
    "plt.plot(range(len(Y)),Y)"
   ]
  },
  {
   "cell_type": "code",
   "execution_count": 806,
   "metadata": {
    "id": "0Cbk-Uu7BS8H"
   },
   "outputs": [],
   "source": [
    "#PREDICTING CAPACITY"
   ]
  },
  {
   "cell_type": "code",
   "execution_count": 807,
   "metadata": {},
   "outputs": [],
   "source": [
    "timestep = 50\n",
    "\n",
    "X= []\n",
    "Y=[]\n",
    "\n",
    "cap=capacity\n",
    "\n",
    "for i in range(len(capacity)- (timestep)):\n",
    "    X.append(capacity[i:i+timestep])\n",
    "    Y.append(capacity[i+timestep])\n",
    "\n",
    "\n",
    "X=np.asanyarray(X)\n",
    "Y=np.asanyarray(Y)\n",
    "\n",
    "\n",
    "k = 100\n",
    "Xtrain = X[:k,:,:]  \n",
    "Ytrain = Y[:k]"
   ]
  },
  {
   "cell_type": "code",
   "execution_count": 808,
   "metadata": {},
   "outputs": [],
   "source": [
    "model = Sequential()\n",
    "model.add(LSTM(units=32, return_sequences=True, input_shape=(50,1)))\n",
    "model.add(Dropout(0.2))\n",
    "model.add(LSTM(units=32))\n",
    "model.add(Dropout(0.2))\n",
    "model.add(Dense(64,activation='linear'))\n",
    "model.add(Dense(32,activation='linear'))\n",
    "model.add(Dense(8,activation='linear'))\n",
    "model.add(Dense(1))\n",
    "model.compile(loss=tf.keras.losses.Huber(), optimizer='adam')"
   ]
  },
  {
   "cell_type": "code",
   "execution_count": 809,
   "metadata": {},
   "outputs": [
    {
     "name": "stdout",
     "output_type": "stream",
     "text": [
      "Model: \"sequential_62\"\n",
      "_________________________________________________________________\n",
      " Layer (type)                Output Shape              Param #   \n",
      "=================================================================\n",
      " lstm_124 (LSTM)             (None, 50, 32)            4352      \n",
      "                                                                 \n",
      " dropout_124 (Dropout)       (None, 50, 32)            0         \n",
      "                                                                 \n",
      " lstm_125 (LSTM)             (None, 32)                8320      \n",
      "                                                                 \n",
      " dropout_125 (Dropout)       (None, 32)                0         \n",
      "                                                                 \n",
      " dense_248 (Dense)           (None, 64)                2112      \n",
      "                                                                 \n",
      " dense_249 (Dense)           (None, 32)                2080      \n",
      "                                                                 \n",
      " dense_250 (Dense)           (None, 8)                 264       \n",
      "                                                                 \n",
      " dense_251 (Dense)           (None, 1)                 9         \n",
      "                                                                 \n",
      "=================================================================\n",
      "Total params: 17,137\n",
      "Trainable params: 17,137\n",
      "Non-trainable params: 0\n",
      "_________________________________________________________________\n"
     ]
    }
   ],
   "source": [
    "model.summary()"
   ]
  },
  {
   "cell_type": "code",
   "execution_count": 810,
   "metadata": {},
   "outputs": [
    {
     "name": "stdout",
     "output_type": "stream",
     "text": [
      "Epoch 1/10\n",
      "4/4 [==============================] - 3s 20ms/step - loss: 1.0542\n",
      "Epoch 2/10\n",
      "4/4 [==============================] - 0s 19ms/step - loss: 0.1024\n",
      "Epoch 3/10\n",
      "4/4 [==============================] - 0s 20ms/step - loss: 0.1663\n",
      "Epoch 4/10\n",
      "4/4 [==============================] - 0s 20ms/step - loss: 0.0385\n",
      "Epoch 5/10\n",
      "4/4 [==============================] - 0s 20ms/step - loss: 0.0730\n",
      "Epoch 6/10\n",
      "4/4 [==============================] - 0s 20ms/step - loss: 0.0512\n",
      "Epoch 7/10\n",
      "4/4 [==============================] - 0s 20ms/step - loss: 0.0263\n",
      "Epoch 8/10\n",
      "4/4 [==============================] - 0s 20ms/step - loss: 0.0389\n",
      "Epoch 9/10\n",
      "4/4 [==============================] - 0s 20ms/step - loss: 0.0268\n",
      "Epoch 10/10\n",
      "4/4 [==============================] - 0s 20ms/step - loss: 0.0210\n"
     ]
    },
    {
     "data": {
      "text/plain": [
       "<keras.callbacks.History at 0x1d177c4a3e0>"
      ]
     },
     "execution_count": 810,
     "metadata": {},
     "output_type": "execute_result"
    }
   ],
   "source": [
    "model.fit(Xtrain, Ytrain, epochs=10,batch_size=32)"
   ]
  },
  {
   "cell_type": "code",
   "execution_count": 811,
   "metadata": {},
   "outputs": [],
   "source": [
    "Xtest = X[k:,:,:]  \n",
    "Ytest= Y[k:]  "
   ]
  },
  {
   "cell_type": "code",
   "execution_count": 812,
   "metadata": {},
   "outputs": [
    {
     "name": "stdout",
     "output_type": "stream",
     "text": [
      "1567/1567 [==============================] - 12s 7ms/step\n"
     ]
    },
    {
     "data": {
      "text/plain": [
       "0.006953374443957261"
      ]
     },
     "execution_count": 812,
     "metadata": {},
     "output_type": "execute_result"
    }
   ],
   "source": [
    "preds = model.predict(Xtest)\n",
    "\n",
    "\n",
    "\n",
    "Ytest=np.asanyarray(Ytest)  \n",
    "Ytest=Ytest.reshape(-1,1) \n",
    "\n",
    "\n",
    "\n",
    "Ytrain=np.asanyarray(Ytrain)  \n",
    "Ytrain=Ytrain.reshape(-1,1) \n",
    "\n",
    "\n",
    "mean_squared_error(Ytest,preds)"
   ]
  },
  {
   "cell_type": "code",
   "execution_count": 813,
   "metadata": {},
   "outputs": [
    {
     "data": {
      "text/plain": [
       "0.08338689611657973"
      ]
     },
     "execution_count": 813,
     "metadata": {},
     "output_type": "execute_result"
    }
   ],
   "source": [
    "sqrt(mean_squared_error(Ytest, preds))"
   ]
  },
  {
   "cell_type": "code",
   "execution_count": 814,
   "metadata": {},
   "outputs": [
    {
     "data": {
      "text/plain": [
       "0.07304406589930197"
      ]
     },
     "execution_count": 814,
     "metadata": {},
     "output_type": "execute_result"
    }
   ],
   "source": [
    "mean_absolute_error(Ytest,preds)"
   ]
  },
  {
   "cell_type": "code",
   "execution_count": 815,
   "metadata": {},
   "outputs": [
    {
     "data": {
      "text/plain": [
       "0.7899153726297203"
      ]
     },
     "execution_count": 815,
     "metadata": {},
     "output_type": "execute_result"
    }
   ],
   "source": [
    "r2_score(Ytest, preds)"
   ]
  },
  {
   "cell_type": "code",
   "execution_count": 816,
   "metadata": {},
   "outputs": [
    {
     "data": {
      "text/plain": [
       "[<matplotlib.lines.Line2D at 0x1d18034f940>]"
      ]
     },
     "execution_count": 816,
     "metadata": {},
     "output_type": "execute_result"
    },
    {
     "data": {
      "image/png": "[encoded data removed]",
      "text/plain": [
       "<Figure size 640x480 with 1 Axes>"
      ]
     },
     "metadata": {},
     "output_type": "display_data"
    }
   ],
   "source": [
    "plt.plot(range(len(preds)),preds)\n",
    "plt.plot(range(len(Ytest)),Ytest)"
   ]
  },
  {
   "cell_type": "code",
   "execution_count": 817,
   "metadata": {},
   "outputs": [
    {
     "name": "stdout",
     "output_type": "stream",
     "text": [
      "1570/1570 [==============================] - 11s 7ms/step\n"
     ]
    }
   ],
   "source": [
    "preds = model.predict(X)"
   ]
  },
  {
   "cell_type": "code",
   "execution_count": 818,
   "metadata": {},
   "outputs": [
    {
     "data": {
      "text/plain": [
       "array([[1.7058202],\n",
       "       [1.7058202],\n",
       "       [1.7058202],\n",
       "       ...,\n",
       "       [1.4196472],\n",
       "       [1.4196472],\n",
       "       [1.4196472]], dtype=float32)"
      ]
     },
     "execution_count": 818,
     "metadata": {},
     "output_type": "execute_result"
    }
   ],
   "source": [
    "preds"
   ]
  },
  {
   "cell_type": "code",
   "execution_count": 819,
   "metadata": {},
   "outputs": [
    {
     "data": {
      "text/plain": [
       "[<matplotlib.lines.Line2D at 0x1d1803f28f0>]"
      ]
     },
     "execution_count": 819,
     "metadata": {},
     "output_type": "execute_result"
    },
    {
     "data": {
      "image/png": "[encoded data removed]",
      "text/plain": [
       "<Figure size 640x480 with 1 Axes>"
      ]
     },
     "metadata": {},
     "output_type": "display_data"
    }
   ],
   "source": [
    "plt.plot(range(len(preds)),preds)\n",
    "plt.plot(range(len(Y)),Y)"
   ]
  },
  {
   "cell_type": "code",
   "execution_count": null,
   "metadata": {},
   "outputs": [],
   "source": []
  },
  {
   "cell_type": "code",
   "execution_count": null,
   "metadata": {},
   "outputs": [],
   "source": []
  }
 ],
 "metadata": {
  "accelerator": "GPU",
  "colab": {
   "provenance": []
  },
  "kernelspec": {
   "display_name": "Python 3 (ipykernel)",
   "language": "python",
   "name": "python3"
  },
  "language_info": {
   "codemirror_mode": {
    "name": "ipython",
    "version": 3
   },
   "file_extension": ".py",
   "mimetype": "text/x-python",
   "name": "python",
   "nbconvert_exporter": "python",
   "pygments_lexer": "ipython3",
   "version": "3.10.9"
  }
 },
 "nbformat": 4,
 "nbformat_minor": 1
}
